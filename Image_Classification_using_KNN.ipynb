{
  "nbformat": 4,
  "nbformat_minor": 0,
  "metadata": {
    "colab": {
      "provenance": [],
      "include_colab_link": true
    },
    "kernelspec": {
      "name": "python3",
      "display_name": "Python 3"
    },
    "language_info": {
      "name": "python"
    }
  },
  "cells": [
    {
      "cell_type": "markdown",
      "metadata": {
        "id": "view-in-github",
        "colab_type": "text"
      },
      "source": [
        "<a href=\"https://colab.research.google.com/github/AliMadany/Deep-Learning-In-Computer-Vision-Models/blob/main/Image_Classification_using_KNN.ipynb\" target=\"_parent\"><img src=\"https://colab.research.google.com/assets/colab-badge.svg\" alt=\"Open In Colab\"/></a>"
      ]
    },
    {
      "cell_type": "markdown",
      "source": [
        "# Task 5\n",
        "The task is to build a cat versus dog image classifier using K-Nearest Neighbors (KNN) from\n",
        "scratch. A filtered 2000 images subset of the CIFAR-100 dataset containing only \"elephant\"\n",
        "and \"bus\" images) will be used for training and testing.  The implementation will involve\n",
        "extracting image features by dividing each image into 4x4 blocks and calculating the mean\n",
        "RGB color of each block, resulting in a 16x3-dimensional feature vector for each image.  The\n",
        "core KNN algorithm will be implemented, including defining the Euclidean distance metric to\n",
        "compare these feature vectors.  The implementation will involve searching the training set\n",
        "for the k nearest neighbors to each test image based on these feature vectors and then using\n",
        "a majority voting strategy among those neighbors to assign a class label (elephant/bus).  The\n",
        "performance of the classifier will then be evaluated using accuracy as the metric."
      ],
      "metadata": {
        "id": "kqWzpFx_Zt87"
      }
    },
    {
      "cell_type": "code",
      "execution_count": null,
      "metadata": {
        "colab": {
          "base_uri": "https://localhost:8080/"
        },
        "id": "4QuhZZm_ZWPX",
        "outputId": "a2a580ef-62af-4626-a4e3-d6c66d64924b"
      },
      "outputs": [
        {
          "output_type": "stream",
          "name": "stdout",
          "text": [
            "Downloading https://www.cs.toronto.edu/~kriz/cifar-100-python.tar.gz to ./data/cifar-100-python.tar.gz\n"
          ]
        },
        {
          "output_type": "stream",
          "name": "stderr",
          "text": [
            "100%|██████████| 169M/169M [00:02<00:00, 61.1MB/s]\n"
          ]
        },
        {
          "output_type": "stream",
          "name": "stdout",
          "text": [
            "Extracting ./data/cifar-100-python.tar.gz to ./data\n",
            "Files already downloaded and verified\n"
          ]
        }
      ],
      "source": [
        "import torch\n",
        "import torchvision\n",
        "import torchvision.transforms as transforms\n",
        "\n",
        "# Download and load CIFAR-100 dataset\n",
        "transform = transforms.Compose([transforms.ToTensor()])\n",
        "cifar100_trainset = torchvision.datasets.CIFAR100(root='./data', train=True, download=True, transform=transform)\n",
        "cifar100_testset = torchvision.datasets.CIFAR100(root='./data', train=False, download=True, transform=transform)\n"
      ]
    },
    {
      "cell_type": "code",
      "source": [
        "# class labels from CIFAR-100\n",
        "cifar100_labels = cifar100_trainset.classes\n",
        "print(cifar100_labels)\n",
        "\n",
        "# indices for \"elephant\" and \"bus\"\n",
        "elephant_idx = cifar100_labels.index(\"elephant\")\n",
        "bus_idx = cifar100_labels.index(\"bus\")\n",
        "\n",
        "print(f\"Elephant Index: {elephant_idx}, Bus Index: {bus_idx}\")\n"
      ],
      "metadata": {
        "colab": {
          "base_uri": "https://localhost:8080/"
        },
        "id": "FYvl5rDBcLjt",
        "outputId": "991942a4-0e1b-4e48-a5db-b17cc5e15bc5"
      },
      "execution_count": null,
      "outputs": [
        {
          "output_type": "stream",
          "name": "stdout",
          "text": [
            "['apple', 'aquarium_fish', 'baby', 'bear', 'beaver', 'bed', 'bee', 'beetle', 'bicycle', 'bottle', 'bowl', 'boy', 'bridge', 'bus', 'butterfly', 'camel', 'can', 'castle', 'caterpillar', 'cattle', 'chair', 'chimpanzee', 'clock', 'cloud', 'cockroach', 'couch', 'crab', 'crocodile', 'cup', 'dinosaur', 'dolphin', 'elephant', 'flatfish', 'forest', 'fox', 'girl', 'hamster', 'house', 'kangaroo', 'keyboard', 'lamp', 'lawn_mower', 'leopard', 'lion', 'lizard', 'lobster', 'man', 'maple_tree', 'motorcycle', 'mountain', 'mouse', 'mushroom', 'oak_tree', 'orange', 'orchid', 'otter', 'palm_tree', 'pear', 'pickup_truck', 'pine_tree', 'plain', 'plate', 'poppy', 'porcupine', 'possum', 'rabbit', 'raccoon', 'ray', 'road', 'rocket', 'rose', 'sea', 'seal', 'shark', 'shrew', 'skunk', 'skyscraper', 'snail', 'snake', 'spider', 'squirrel', 'streetcar', 'sunflower', 'sweet_pepper', 'table', 'tank', 'telephone', 'television', 'tiger', 'tractor', 'train', 'trout', 'tulip', 'turtle', 'wardrobe', 'whale', 'willow_tree', 'wolf', 'woman', 'worm']\n",
            "Elephant Index: 31, Bus Index: 13\n"
          ]
        }
      ]
    },
    {
      "cell_type": "code",
      "source": [
        "import numpy as np\n",
        "\n",
        "def filter_dataset(dataset, class_indices):\n",
        "    images, labels = [], []\n",
        "    for img, label in dataset:\n",
        "        if label in class_indices:\n",
        "            images.append(img.numpy())  # tensor to NumPy array\n",
        "            labels.append(label)\n",
        "\n",
        "    return np.array(images), np.array(labels)\n",
        "\n",
        "# images of elephants and buses\n",
        "train_images, train_labels = filter_dataset(cifar100_trainset, [elephant_idx, bus_idx])\n",
        "test_images, test_labels = filter_dataset(cifar100_testset, [elephant_idx, bus_idx])\n",
        "\n",
        "print(f\"Train set size: {len(train_images)}, Test set size: {len(test_images)}\")\n"
      ],
      "metadata": {
        "colab": {
          "base_uri": "https://localhost:8080/"
        },
        "id": "ZAKJz18fcnps",
        "outputId": "4a901dba-4459-44e6-cd3c-8614b4090674"
      },
      "execution_count": null,
      "outputs": [
        {
          "output_type": "stream",
          "name": "stdout",
          "text": [
            "Train set size: 1000, Test set size: 200\n"
          ]
        }
      ]
    },
    {
      "cell_type": "code",
      "source": [
        "np.save(\"train_images.npy\", train_images)\n",
        "np.save(\"train_labels.npy\", train_labels)\n",
        "np.save(\"test_images.npy\", test_images)\n",
        "np.save(\"test_labels.npy\", test_labels)\n",
        "\n",
        "print(\"Filtered dataset saved!\")\n",
        "\n"
      ],
      "metadata": {
        "colab": {
          "base_uri": "https://localhost:8080/"
        },
        "id": "zCPfR_u7cqtT",
        "outputId": "d52f23f5-4d2d-4895-cbbb-8aad52848e17"
      },
      "execution_count": null,
      "outputs": [
        {
          "output_type": "stream",
          "name": "stdout",
          "text": [
            "Filtered dataset saved!\n"
          ]
        }
      ]
    },
    {
      "cell_type": "code",
      "source": [
        "train_images = np.load(\"train_images.npy\")\n",
        "train_labels = np.load(\"train_labels.npy\")\n",
        "test_images = np.load(\"test_images.npy\")\n",
        "test_labels = np.load(\"test_labels.npy\")\n",
        "\n",
        "print(\"Filtered dataset loaded successfully!\")\n"
      ],
      "metadata": {
        "colab": {
          "base_uri": "https://localhost:8080/"
        },
        "id": "r9P7PGD8dRDQ",
        "outputId": "d3b11fef-92c6-4da2-9df0-bc773661cbaa"
      },
      "execution_count": null,
      "outputs": [
        {
          "output_type": "stream",
          "name": "stdout",
          "text": [
            "Filtered dataset loaded successfully!\n"
          ]
        }
      ]
    },
    {
      "cell_type": "code",
      "source": [
        "import numpy as np\n",
        "\n",
        "# filtered dataset\n",
        "train_labels = np.load(\"train_labels.npy\")\n",
        "\n",
        "# unique class labels\n",
        "unique_classes = np.unique(train_labels)\n",
        "print(f\"Unique class labels in the filtered training set: {unique_classes}\")\n"
      ],
      "metadata": {
        "colab": {
          "base_uri": "https://localhost:8080/"
        },
        "id": "4BbTelALdSk1",
        "outputId": "05aa30fb-66d0-4373-f8f9-2a3068275096"
      },
      "execution_count": null,
      "outputs": [
        {
          "output_type": "stream",
          "name": "stdout",
          "text": [
            "Unique class labels in the filtered training set: [13 31]\n"
          ]
        }
      ]
    },
    {
      "cell_type": "code",
      "source": [
        "import matplotlib.pyplot as plt\n",
        "import numpy as np\n",
        "import random\n",
        "import cv2\n",
        "\n",
        "# random indices\n",
        "num_samples = 5\n",
        "random_indices = random.sample(range(len(train_images)), num_samples)\n",
        "\n",
        "# figure size\n",
        "plt.figure(figsize=(10, 5))\n",
        "\n",
        "for i, idx in enumerate(random_indices):\n",
        "    #plt.subplot(1, num_samples, i + 1)\n",
        "\n",
        "    # Convert (3, 32, 32) → (32, 32, 3)\n",
        "    img = train_images[idx].transpose(1, 2, 0)\n",
        "\n",
        "    # Resize image for better display\n",
        "    img_resized = cv2.resize(img, (128, 128), interpolation=cv2.INTER_NEAREST)  # nearest neighbor scaling\n",
        "\n",
        "\n",
        "\n",
        "\n"
      ],
      "metadata": {
        "colab": {
          "base_uri": "https://localhost:8080/",
          "height": 34
        },
        "id": "469JHO3qd2GY",
        "outputId": "d2d87b6a-634e-4bec-f0c3-e8396362db4a"
      },
      "execution_count": null,
      "outputs": [
        {
          "output_type": "display_data",
          "data": {
            "text/plain": [
              "<Figure size 1000x500 with 0 Axes>"
            ]
          },
          "metadata": {}
        }
      ]
    },
    {
      "cell_type": "code",
      "source": [
        "import numpy as np\n",
        "\n",
        "def extract_features(images):\n",
        "    \"\"\"\n",
        "    Extracts features from images by computing the mean RGB values in 4x4 blocks.\n",
        "\n",
        "    Args:\n",
        "        images (numpy array): Array of images with shape (num_samples, 3, 32, 32).\n",
        "\n",
        "    Returns:\n",
        "        numpy array: Feature vectors of shape (num_samples, 192).\n",
        "    \"\"\"\n",
        "    num_samples = images.shape[0]\n",
        "    feature_size = 192  # 64 blocks × 3 color channels = 192 features per image\n",
        "    features = np.zeros((num_samples, feature_size))  # feature matrix\n",
        "\n",
        "    for i, img in enumerate(images):\n",
        "        img = np.transpose(img, (1, 2, 0))  # (3, 32, 32) → (32, 32, 3)\n",
        "        blocks = []\n",
        "\n",
        "        for row in range(0, 32, 4):\n",
        "            for col in range(0, 32, 4):\n",
        "                block = img[row:row+4, col:col+4]\n",
        "                mean_rgb = np.mean(block, axis=(0, 1))  # mean RGB values\n",
        "                blocks.extend(mean_rgb)  # Flatten feature vector\n",
        "\n",
        "        features[i] = np.array(blocks)  # Store extracted features\n",
        "\n",
        "    return features\n",
        "\n",
        "# feature extraction\n",
        "train_features = extract_features(train_images)\n",
        "test_features = extract_features(test_images)\n",
        "=\n",
        "print(\"Train feature shape:\", train_features.shape)\n",
        "print(\"Test feature shape:\", test_features.shape)\n"
      ],
      "metadata": {
        "colab": {
          "base_uri": "https://localhost:8080/"
        },
        "id": "J3mYFE71elBM",
        "outputId": "4a9ee954-53e0-4c55-96ac-72478b8d49c0"
      },
      "execution_count": null,
      "outputs": [
        {
          "output_type": "stream",
          "name": "stdout",
          "text": [
            "Train feature shape: (1000, 192)\n",
            "Test feature shape: (200, 192)\n"
          ]
        }
      ]
    },
    {
      "cell_type": "code",
      "source": [
        "print(\"Train image shape:\", train_images.shape)  # Expected: (num_samples, 32, 32, 3)\n"
      ],
      "metadata": {
        "colab": {
          "base_uri": "https://localhost:8080/"
        },
        "id": "aCrNXu-KgNQ0",
        "outputId": "b263b398-2c8c-4220-c85e-ed63b0643ded"
      },
      "execution_count": null,
      "outputs": [
        {
          "output_type": "stream",
          "name": "stdout",
          "text": [
            "Train image shape: (1000, 3, 32, 32)\n"
          ]
        }
      ]
    },
    {
      "cell_type": "code",
      "source": [
        "import numpy as np\n",
        "\n",
        "def euclidean_distance(vec1, vec2):\n",
        "    return np.sqrt(np.sum((vec1 - vec2) ** 2))\n"
      ],
      "metadata": {
        "id": "s1Ei1DiYhqxU"
      },
      "execution_count": null,
      "outputs": []
    },
    {
      "cell_type": "code",
      "source": [
        "import numpy as np\n",
        "from collections import Counter\n",
        "\n",
        "def knn_classify(test_sample, train_features, train_labels, k):\n",
        "\n",
        "    distances = [np.linalg.norm(test_sample - train_features[i]) for i in range(len(train_features))]\n",
        "\n",
        "    # indices of k nearest neighbors\n",
        "    k_nearest_indices = np.argsort(distances)[:k]\n",
        "\n",
        "    # labels of k nearest neighbors\n",
        "    k_nearest_labels = [train_labels[i] for i in k_nearest_indices]\n",
        "\n",
        "    # majority voting\n",
        "    most_common_label = Counter(k_nearest_labels).most_common(1)[0][0]\n",
        "\n",
        "    return most_common_label\n",
        "\n",
        "def compute_accuracy(predictions, actual_labels):\n",
        "    return np.mean(np.array(predictions) == np.array(actual_labels)) * 100\n",
        "\n",
        "# KNN on all test samples\n",
        "k = 10\n",
        "predicted_labels = [knn_classify(test_features[i], train_features, train_labels, k) for i in range(len(test_features))]\n",
        "\n",
        "# accuracy\n",
        "accuracy = compute_accuracy(predicted_labels, test_labels)\n",
        "print(f\"KNN Classifier Accuracy: {accuracy:.2f}%\")\n"
      ],
      "metadata": {
        "colab": {
          "base_uri": "https://localhost:8080/"
        },
        "id": "hyjjVZQNi0kt",
        "outputId": "bc9dd25b-084b-4ae3-cae0-418db55e2e7a"
      },
      "execution_count": null,
      "outputs": [
        {
          "output_type": "stream",
          "name": "stdout",
          "text": [
            "KNN Classifier Accuracy: 70.00%\n"
          ]
        }
      ]
    },
    {
      "cell_type": "code",
      "source": [
        "from sklearn.metrics import confusion_matrix\n",
        "import seaborn as sns\n",
        "import matplotlib.pyplot as plt\n",
        "\n",
        "def knn_classify(test_sample, train_features, train_labels, k):\n",
        "    distances = [np.linalg.norm(test_sample - train_features[i]) for i in range(len(train_features))]\n",
        "    k_nearest_indices = np.argsort(distances)[:k]\n",
        "    k_nearest_labels = [train_labels[i] for i in k_nearest_indices]\n",
        "    most_common_label = Counter(k_nearest_labels).most_common(1)[0][0]\n",
        "    return most_common_label\n",
        "\n",
        "# 50 test samples\n",
        "k = 10\n",
        "num_samples_to_classify = 50\n",
        "\n",
        "test_samples = test_features[:num_samples_to_classify]\n",
        "test_labels_subset = test_labels[:num_samples_to_classify]\n",
        "\n",
        "predicted_labels = [knn_classify(test_samples[i], train_features, train_labels, k) for i in range(num_samples_to_classify)]\n",
        "\n",
        "# accuracy\n",
        "accuracy = np.mean(np.array(predicted_labels) == np.array(test_labels_subset)) * 100\n",
        "print(f\"KNN Classifier Accuracy on 50 samples: {accuracy:.2f}%\")\n",
        "\n",
        "# confusion matrix\n",
        "conf_matrix = confusion_matrix(test_labels_subset, predicted_labels)\n",
        "\n",
        "plt.figure(figsize=(5, 5))\n",
        "sns.heatmap(conf_matrix, annot=True, fmt='d', cmap='Blues', xticklabels=[\"Elephant\", \"Bus\"], yticklabels=[\"Elephant\", \"Bus\"])\n",
        "plt.xlabel(\"Predicted Labels\")\n",
        "plt.ylabel(\"True Labels\")\n",
        "plt.title(\"Confusion Matrix for k-NN Classification\")\n",
        "plt.show()\n",
        "\n",
        "# Display detailed classification results\n",
        "print(\"Classification Results (First 50 test samples):\")\n",
        "for i in range(num_samples_to_classify):\n",
        "    print(f\"Test Sample {i+1}: True Label = {test_labels_subset[i]}, Predicted Label = {predicted_labels[i]}\")\n"
      ],
      "metadata": {
        "colab": {
          "base_uri": "https://localhost:8080/",
          "height": 1000
        },
        "id": "MerQpAOUiuDF",
        "outputId": "882ab3d0-7960-4de7-fef0-64117162463a"
      },
      "execution_count": null,
      "outputs": [
        {
          "output_type": "stream",
          "name": "stdout",
          "text": [
            "KNN Classifier Accuracy on 50 samples: 70.00%\n"
          ]
        },
        {
          "output_type": "display_data",
          "data": {
            "text/plain": [
              "<Figure size 500x500 with 2 Axes>"
            ],
            "image/png": "[encoded data removed]"
          },
          "metadata": {}
        },
        {
          "output_type": "stream",
          "name": "stdout",
          "text": [
            "Classification Results (First 50 test samples):\n",
            "Test Sample 1: True Label = 13, Predicted Label = 31\n",
            "Test Sample 2: True Label = 13, Predicted Label = 13\n",
            "Test Sample 3: True Label = 31, Predicted Label = 31\n",
            "Test Sample 4: True Label = 31, Predicted Label = 31\n",
            "Test Sample 5: True Label = 31, Predicted Label = 31\n",
            "Test Sample 6: True Label = 31, Predicted Label = 31\n",
            "Test Sample 7: True Label = 31, Predicted Label = 31\n",
            "Test Sample 8: True Label = 31, Predicted Label = 31\n",
            "Test Sample 9: True Label = 31, Predicted Label = 31\n",
            "Test Sample 10: True Label = 13, Predicted Label = 31\n",
            "Test Sample 11: True Label = 31, Predicted Label = 31\n",
            "Test Sample 12: True Label = 13, Predicted Label = 31\n",
            "Test Sample 13: True Label = 31, Predicted Label = 31\n",
            "Test Sample 14: True Label = 13, Predicted Label = 31\n",
            "Test Sample 15: True Label = 31, Predicted Label = 31\n",
            "Test Sample 16: True Label = 13, Predicted Label = 31\n",
            "Test Sample 17: True Label = 13, Predicted Label = 13\n",
            "Test Sample 18: True Label = 13, Predicted Label = 31\n",
            "Test Sample 19: True Label = 31, Predicted Label = 31\n",
            "Test Sample 20: True Label = 31, Predicted Label = 31\n",
            "Test Sample 21: True Label = 13, Predicted Label = 31\n",
            "Test Sample 22: True Label = 31, Predicted Label = 31\n",
            "Test Sample 23: True Label = 13, Predicted Label = 13\n",
            "Test Sample 24: True Label = 13, Predicted Label = 13\n",
            "Test Sample 25: True Label = 13, Predicted Label = 31\n",
            "Test Sample 26: True Label = 13, Predicted Label = 13\n",
            "Test Sample 27: True Label = 31, Predicted Label = 31\n",
            "Test Sample 28: True Label = 31, Predicted Label = 31\n",
            "Test Sample 29: True Label = 31, Predicted Label = 31\n",
            "Test Sample 30: True Label = 13, Predicted Label = 31\n",
            "Test Sample 31: True Label = 13, Predicted Label = 13\n",
            "Test Sample 32: True Label = 31, Predicted Label = 31\n",
            "Test Sample 33: True Label = 13, Predicted Label = 31\n",
            "Test Sample 34: True Label = 31, Predicted Label = 31\n",
            "Test Sample 35: True Label = 31, Predicted Label = 31\n",
            "Test Sample 36: True Label = 13, Predicted Label = 31\n",
            "Test Sample 37: True Label = 13, Predicted Label = 31\n",
            "Test Sample 38: True Label = 31, Predicted Label = 31\n",
            "Test Sample 39: True Label = 31, Predicted Label = 31\n",
            "Test Sample 40: True Label = 13, Predicted Label = 13\n",
            "Test Sample 41: True Label = 31, Predicted Label = 31\n",
            "Test Sample 42: True Label = 31, Predicted Label = 31\n",
            "Test Sample 43: True Label = 31, Predicted Label = 31\n",
            "Test Sample 44: True Label = 13, Predicted Label = 31\n",
            "Test Sample 45: True Label = 13, Predicted Label = 13\n",
            "Test Sample 46: True Label = 31, Predicted Label = 31\n",
            "Test Sample 47: True Label = 31, Predicted Label = 31\n",
            "Test Sample 48: True Label = 13, Predicted Label = 31\n",
            "Test Sample 49: True Label = 13, Predicted Label = 31\n",
            "Test Sample 50: True Label = 13, Predicted Label = 13\n"
          ]
        }
      ]
    }
  ]
}